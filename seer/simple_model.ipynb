{
 "cells": [
  {
   "cell_type": "code",
   "execution_count": 1,
   "metadata": {},
   "outputs": [
    {
     "name": "stderr",
     "output_type": "stream",
     "text": [
      "/Users/junginpark/miniconda3/lib/python3.6/site-packages/sklearn/ensemble/weight_boosting.py:29: DeprecationWarning: numpy.core.umath_tests is an internal NumPy module and should not be imported. It will be removed in a future NumPy release.\n",
      "  from numpy.core.umath_tests import inner1d\n"
     ]
    }
   ],
   "source": [
    "import numpy as np\n",
    "import pandas as pd\n",
    "import matplotlib.pyplot as plt\n",
    "\n",
    "from sklearn.model_selection import train_test_split\n",
    "from sklearn.preprocessing import StandardScaler\n",
    "from sklearn.linear_model import LogisticRegression\n",
    "from sklearn.svm import SVC\n",
    "from sklearn.neural_network import MLPClassifier\n",
    "from sklearn.ensemble import RandomForestClassifier\n",
    "from sklearn.externals import joblib\n",
    "from sklearn.metrics import classification_report\n",
    "from sklearn.metrics import confusion_matrix\n",
    "\n",
    "from utils import plot_confusion_matrix"
   ]
  },
  {
   "cell_type": "code",
   "execution_count": 3,
   "metadata": {},
   "outputs": [
    {
     "data": {
      "text/html": [
       "<div>\n",
       "<style scoped>\n",
       "    .dataframe tbody tr th:only-of-type {\n",
       "        vertical-align: middle;\n",
       "    }\n",
       "\n",
       "    .dataframe tbody tr th {\n",
       "        vertical-align: top;\n",
       "    }\n",
       "\n",
       "    .dataframe thead th {\n",
       "        text-align: right;\n",
       "    }\n",
       "</style>\n",
       "<table border=\"1\" class=\"dataframe\">\n",
       "  <thead>\n",
       "    <tr style=\"text-align: right;\">\n",
       "      <th></th>\n",
       "      <th>PUBCSNUM</th>\n",
       "      <th>AGE_DX</th>\n",
       "      <th>YR_BRTH</th>\n",
       "      <th>MDXRECMP</th>\n",
       "      <th>YEAR_DX</th>\n",
       "      <th>REC_NO</th>\n",
       "      <th>SRV_TIME_MON</th>\n",
       "      <th>MALIGCOUNT</th>\n",
       "      <th>BENBORDCOUNT</th>\n",
       "      <th>REG__1501</th>\n",
       "      <th>...</th>\n",
       "      <th>INTPRIM__1</th>\n",
       "      <th>INTPRIM__9</th>\n",
       "      <th>CSSCHEMA__25</th>\n",
       "      <th>CSSCHEMA__26</th>\n",
       "      <th>CSSCHEMA__36</th>\n",
       "      <th>SRV_TIME_MON_FLAG__0</th>\n",
       "      <th>SRV_TIME_MON_FLAG__1</th>\n",
       "      <th>SRV_TIME_MON_FLAG__2</th>\n",
       "      <th>SRV_TIME_MON_FLAG__3</th>\n",
       "      <th>SRV_TIME_MON_FLAG__8</th>\n",
       "    </tr>\n",
       "  </thead>\n",
       "  <tbody>\n",
       "    <tr>\n",
       "      <th>0</th>\n",
       "      <td>7000005</td>\n",
       "      <td>83</td>\n",
       "      <td>1892</td>\n",
       "      <td>10</td>\n",
       "      <td>1975</td>\n",
       "      <td>1</td>\n",
       "      <td>0</td>\n",
       "      <td>2</td>\n",
       "      <td>0</td>\n",
       "      <td>0</td>\n",
       "      <td>...</td>\n",
       "      <td>1</td>\n",
       "      <td>0</td>\n",
       "      <td>1</td>\n",
       "      <td>0</td>\n",
       "      <td>0</td>\n",
       "      <td>0</td>\n",
       "      <td>1</td>\n",
       "      <td>0</td>\n",
       "      <td>0</td>\n",
       "      <td>0</td>\n",
       "    </tr>\n",
       "    <tr>\n",
       "      <th>1</th>\n",
       "      <td>7000012</td>\n",
       "      <td>80</td>\n",
       "      <td>1896</td>\n",
       "      <td>1</td>\n",
       "      <td>1977</td>\n",
       "      <td>1</td>\n",
       "      <td>63</td>\n",
       "      <td>2</td>\n",
       "      <td>0</td>\n",
       "      <td>0</td>\n",
       "      <td>...</td>\n",
       "      <td>1</td>\n",
       "      <td>0</td>\n",
       "      <td>1</td>\n",
       "      <td>0</td>\n",
       "      <td>0</td>\n",
       "      <td>0</td>\n",
       "      <td>1</td>\n",
       "      <td>0</td>\n",
       "      <td>0</td>\n",
       "      <td>0</td>\n",
       "    </tr>\n",
       "    <tr>\n",
       "      <th>2</th>\n",
       "      <td>7000033</td>\n",
       "      <td>78</td>\n",
       "      <td>1908</td>\n",
       "      <td>12</td>\n",
       "      <td>1986</td>\n",
       "      <td>1</td>\n",
       "      <td>181</td>\n",
       "      <td>2</td>\n",
       "      <td>0</td>\n",
       "      <td>0</td>\n",
       "      <td>...</td>\n",
       "      <td>0</td>\n",
       "      <td>1</td>\n",
       "      <td>1</td>\n",
       "      <td>0</td>\n",
       "      <td>0</td>\n",
       "      <td>0</td>\n",
       "      <td>1</td>\n",
       "      <td>0</td>\n",
       "      <td>0</td>\n",
       "      <td>0</td>\n",
       "    </tr>\n",
       "    <tr>\n",
       "      <th>3</th>\n",
       "      <td>7000035</td>\n",
       "      <td>75</td>\n",
       "      <td>1914</td>\n",
       "      <td>12</td>\n",
       "      <td>1989</td>\n",
       "      <td>1</td>\n",
       "      <td>26</td>\n",
       "      <td>2</td>\n",
       "      <td>0</td>\n",
       "      <td>0</td>\n",
       "      <td>...</td>\n",
       "      <td>1</td>\n",
       "      <td>0</td>\n",
       "      <td>1</td>\n",
       "      <td>0</td>\n",
       "      <td>0</td>\n",
       "      <td>0</td>\n",
       "      <td>1</td>\n",
       "      <td>0</td>\n",
       "      <td>0</td>\n",
       "      <td>0</td>\n",
       "    </tr>\n",
       "    <tr>\n",
       "      <th>4</th>\n",
       "      <td>7000038</td>\n",
       "      <td>70</td>\n",
       "      <td>1903</td>\n",
       "      <td>9</td>\n",
       "      <td>1973</td>\n",
       "      <td>1</td>\n",
       "      <td>50</td>\n",
       "      <td>2</td>\n",
       "      <td>0</td>\n",
       "      <td>0</td>\n",
       "      <td>...</td>\n",
       "      <td>1</td>\n",
       "      <td>0</td>\n",
       "      <td>0</td>\n",
       "      <td>1</td>\n",
       "      <td>0</td>\n",
       "      <td>0</td>\n",
       "      <td>1</td>\n",
       "      <td>0</td>\n",
       "      <td>0</td>\n",
       "      <td>0</td>\n",
       "    </tr>\n",
       "  </tbody>\n",
       "</table>\n",
       "<p>5 rows × 1510 columns</p>\n",
       "</div>"
      ],
      "text/plain": [
       "   PUBCSNUM  AGE_DX YR_BRTH  MDXRECMP  YEAR_DX  REC_NO  SRV_TIME_MON  \\\n",
       "0   7000005      83    1892        10     1975       1             0   \n",
       "1   7000012      80    1896         1     1977       1            63   \n",
       "2   7000033      78    1908        12     1986       1           181   \n",
       "3   7000035      75    1914        12     1989       1            26   \n",
       "4   7000038      70    1903         9     1973       1            50   \n",
       "\n",
       "   MALIGCOUNT  BENBORDCOUNT  REG__1501          ...           INTPRIM__1  \\\n",
       "0           2             0          0          ...                    1   \n",
       "1           2             0          0          ...                    1   \n",
       "2           2             0          0          ...                    0   \n",
       "3           2             0          0          ...                    1   \n",
       "4           2             0          0          ...                    1   \n",
       "\n",
       "   INTPRIM__9  CSSCHEMA__25  CSSCHEMA__26  CSSCHEMA__36  SRV_TIME_MON_FLAG__0  \\\n",
       "0           0             1             0             0                     0   \n",
       "1           0             1             0             0                     0   \n",
       "2           1             1             0             0                     0   \n",
       "3           0             1             0             0                     0   \n",
       "4           0             0             1             0                     0   \n",
       "\n",
       "   SRV_TIME_MON_FLAG__1  SRV_TIME_MON_FLAG__2  SRV_TIME_MON_FLAG__3  \\\n",
       "0                     1                     0                     0   \n",
       "1                     1                     0                     0   \n",
       "2                     1                     0                     0   \n",
       "3                     1                     0                     0   \n",
       "4                     1                     0                     0   \n",
       "\n",
       "   SRV_TIME_MON_FLAG__8  \n",
       "0                     0  \n",
       "1                     0  \n",
       "2                     0  \n",
       "3                     0  \n",
       "4                     0  \n",
       "\n",
       "[5 rows x 1510 columns]"
      ]
     },
     "execution_count": 3,
     "metadata": {},
     "output_type": "execute_result"
    }
   ],
   "source": [
    "filename = '/Users/junginpark/data/SEER_1973_2015_TEXTDATA/incidence/csv/COLRECT_converted.pickle'\n",
    "\n",
    "df = pd.read_pickle(filename)\n",
    "\n",
    "df.head()"
   ]
  },
  {
   "cell_type": "code",
   "execution_count": 4,
   "metadata": {},
   "outputs": [
    {
     "data": {
      "text/plain": [
       "(693250, 1493)"
      ]
     },
     "execution_count": 4,
     "metadata": {},
     "output_type": "execute_result"
    }
   ],
   "source": [
    "# Filter\n",
    "\n",
    "df_filtered = df\n",
    "\n",
    "if 'MAR_STAT__9' in df_filtered.columns:\n",
    "    df_filtered = df_filtered.loc[df_filtered['MAR_STAT__9'] == 0]\n",
    "if 'RACE1V__99' in df_filtered.columns:\n",
    "    df_filtered = df_filtered.loc[df_filtered['RACE1V__99'] == 0]\n",
    "if 'AGE_DX' in df_filtered.columns:\n",
    "    df_filtered = df_filtered.loc[df_filtered['AGE_DX'] != 999]\n",
    "if 'SEQ_NUM__99' in df_filtered.columns:\n",
    "    df_filtered = df_filtered.loc[df_filtered['SEQ_NUM__99'] == 0]\n",
    "if 'SEQ_NUM__88' in df_filtered.columns:\n",
    "    df_filtered = df_filtered.loc[df_filtered['SEQ_NUM__88'] == 0]\n",
    "if 'LATERAL__9' in df_filtered.columns:\n",
    "    df_filtered = df_filtered.loc[df_filtered['LATERAL__9'] == 0]\n",
    "if 'GRADE__9' in df_filtered.columns:\n",
    "    df_filtered = df_filtered.loc[df_filtered['GRADE__9'] == 0]\n",
    "if 'DX_CONF__9' in df_filtered.columns:\n",
    "    df_filtered = df_filtered.loc[df_filtered['DX_CONF__9'] == 0]\n",
    "if 'NO_SURG__9' in df_filtered.columns:\n",
    "    df_filtered = df_filtered.loc[df_filtered['NO_SURG__9'] == 0]\n",
    "if 'AGE_1REC__99' in df_filtered.columns:\n",
    "    df_filtered = df_filtered.loc[df_filtered['AGE_1REC__99'] == 0]\n",
    "if 'RAC_RECA__9' in df_filtered.columns:\n",
    "    df_filtered = df_filtered.loc[df_filtered['RAC_RECA__9'] == 0]\n",
    "if 'RAC_RECY__9' in df_filtered.columns:\n",
    "    df_filtered = df_filtered.loc[df_filtered['RAC_RECY__9'] == 0]\n",
    "if 'HST_STGA__9' in df_filtered.columns:\n",
    "    df_filtered = df_filtered.loc[df_filtered['HST_STGA__9'] == 0]\n",
    "if 'SRV_TIME_MON' in df_filtered.columns:\n",
    "    df_filtered = df_filtered.loc[df_filtered['SRV_TIME_MON'] != 9999]\n",
    "if 'MALIGCOUNT' in df_filtered.columns:\n",
    "    df_filtered = df_filtered.loc[df_filtered['MALIGCOUNT'] != 99]\n",
    "if 'BENBORDCOUNT' in df_filtered.columns:\n",
    "    df_filtered = df_filtered.loc[df_filtered['BENBORDCOUNT'] != 99]\n",
    "\n",
    "to_exclude = ['MAR_STAT__9', 'RACE1V__99', 'YR_BRTH', 'SEQ_NUM__99', 'SEQ_NUM__88', \n",
    "              'LATERAL__9', 'GRADE__9', 'DX_CONF__9', 'NO_SURG__9', 'AGE_1REC__99', \n",
    "              'ICCC3WHO', 'ICCC3XWHO', 'RAC_RECA__9', 'RAC_RECY__9', 'HST_STGA__9',\n",
    "              'SRV_TIME_MON_FLAG__0', 'SRV_TIME_MON_FLAG__1', 'SRV_TIME_MON_FLAG__2',\n",
    "              'SRV_TIME_MON_FLAG__3', 'SRV_TIME_MON_FLAG__8']\n",
    "to_exclude = list(set(df_filtered.columns).intersection(set(to_exclude)))\n",
    "df_filtered = df_filtered.drop(columns=to_exclude, axis=1)\n",
    "\n",
    "df_filtered.shape"
   ]
  },
  {
   "cell_type": "code",
   "execution_count": 5,
   "metadata": {},
   "outputs": [
    {
     "name": "stdout",
     "output_type": "stream",
     "text": [
      "Feature shape: (693250, 1491)\n"
     ]
    }
   ],
   "source": [
    "# Prepare training\n",
    "\n",
    "X = df_filtered.drop(columns=['PUBCSNUM', 'SRV_TIME_MON']).values.astype(np.float32)\n",
    "y_cont = df_filtered.SRV_TIME_MON.values.astype(np.float32)\n",
    "y = np.where(y_cont > 60, 1, 0)\n",
    "\n",
    "print(f'Feature shape: {X.shape}')\n",
    "\n",
    "X_train, X_test, y_train, y_test = train_test_split(X, y, test_size=0.3, random_state=42)"
   ]
  },
  {
   "cell_type": "code",
   "execution_count": 6,
   "metadata": {},
   "outputs": [
    {
     "name": "stdout",
     "output_type": "stream",
     "text": [
      "Start training logistic regression...\n",
      "Saving logistic regression model...\n"
     ]
    },
    {
     "data": {
      "text/plain": [
       "['model_lr.pickle']"
      ]
     },
     "execution_count": 6,
     "metadata": {},
     "output_type": "execute_result"
    }
   ],
   "source": [
    "# Logistic Regression\n",
    "\n",
    "print('Start training logistic regression...')\n",
    "model_lr = LogisticRegression()\n",
    "model_lr.fit(X_train, y_train)\n",
    "\n",
    "print('Saving logistic regression model...')\n",
    "joblib.dump(model_lr, 'model_lr.pickle')"
   ]
  },
  {
   "cell_type": "code",
   "execution_count": 7,
   "metadata": {},
   "outputs": [
    {
     "name": "stdout",
     "output_type": "stream",
     "text": [
      "Training set evaluation\n",
      "             precision    recall  f1-score   support\n",
      "\n",
      "    <= 5yrs       0.80      0.75      0.78    286843\n",
      "     > 5yrs       0.67      0.73      0.70    198432\n",
      "\n",
      "avg / total       0.75      0.74      0.75    485275\n",
      "\n",
      "Test set evaluation\n",
      "             precision    recall  f1-score   support\n",
      "\n",
      "    <= 5yrs       0.80      0.75      0.78    122479\n",
      "     > 5yrs       0.67      0.73      0.70     85496\n",
      "\n",
      "avg / total       0.75      0.74      0.74    207975\n",
      "\n",
      "Confusion matrix, without normalization\n"
     ]
    },
    {
     "data": {
      "image/png": "[encoded data removed]",
      "text/plain": [
       "<Figure size 432x288 with 2 Axes>"
      ]
     },
     "metadata": {},
     "output_type": "display_data"
    },
    {
     "name": "stdout",
     "output_type": "stream",
     "text": [
      "Normalized confusion matrix\n"
     ]
    },
    {
     "data": {
      "image/png": "[encoded data removed]",
      "text/plain": [
       "<Figure size 432x288 with 2 Axes>"
      ]
     },
     "metadata": {},
     "output_type": "display_data"
    }
   ],
   "source": [
    "target_names = ['<= 5yrs', '> 5yrs']\n",
    "\n",
    "print('Training set evaluation')\n",
    "y_train_pred = model_lr.predict(X_train)\n",
    "print(classification_report(y_train, y_train_pred, target_names=target_names))\n",
    "\n",
    "print('Test set evaluation')\n",
    "y_test_pred = model_lr.predict(X_test)\n",
    "print(classification_report(y_test, y_test_pred, target_names=target_names))\n",
    "\n",
    "cnf_matrix = confusion_matrix(y_test, y_test_pred)\n",
    "plot_confusion_matrix(cnf_matrix, classes=target_names, normalize=False,\n",
    "                      title='Logistic Regression Confusion matrix, without normalization')\n",
    "plt.show()\n",
    "plot_confusion_matrix(cnf_matrix, classes=target_names, normalize=True,\n",
    "                      title='Logistic Regression Confusion matrix, with normalization')\n",
    "plt.show()"
   ]
  },
  {
   "cell_type": "code",
   "execution_count": 8,
   "metadata": {},
   "outputs": [
    {
     "name": "stdout",
     "output_type": "stream",
     "text": [
      "Start training random forest...\n",
      "Saving random forest model...\n"
     ]
    },
    {
     "data": {
      "text/plain": [
       "['model_rf.pickle']"
      ]
     },
     "execution_count": 8,
     "metadata": {},
     "output_type": "execute_result"
    }
   ],
   "source": [
    "# Random Forest\n",
    "\n",
    "print('Start training random forest...')\n",
    "model_rf = RandomForestClassifier(n_jobs=8, random_state=42)\n",
    "model_rf.fit(X_train, y_train)\n",
    "\n",
    "print('Saving random forest model...')\n",
    "joblib.dump(model_rf, 'model_rf.pickle')"
   ]
  },
  {
   "cell_type": "code",
   "execution_count": 9,
   "metadata": {},
   "outputs": [
    {
     "name": "stdout",
     "output_type": "stream",
     "text": [
      "Training set evaluation\n",
      "             precision    recall  f1-score   support\n",
      "\n",
      "    <= 5yrs       0.99      1.00      0.99    286843\n",
      "     > 5yrs       1.00      0.98      0.99    198432\n",
      "\n",
      "avg / total       0.99      0.99      0.99    485275\n",
      "\n",
      "Test set evaluation\n",
      "             precision    recall  f1-score   support\n",
      "\n",
      "    <= 5yrs       0.85      0.90      0.87    122479\n",
      "     > 5yrs       0.85      0.77      0.81     85496\n",
      "\n",
      "avg / total       0.85      0.85      0.85    207975\n",
      "\n",
      "Confusion matrix, without normalization\n"
     ]
    },
    {
     "data": {
      "image/png": "[encoded data removed]",
      "text/plain": [
       "<Figure size 432x288 with 2 Axes>"
      ]
     },
     "metadata": {},
     "output_type": "display_data"
    },
    {
     "name": "stdout",
     "output_type": "stream",
     "text": [
      "Normalized confusion matrix\n"
     ]
    },
    {
     "data": {
      "image/png": "[encoded data removed]",
      "text/plain": [
       "<Figure size 432x288 with 2 Axes>"
      ]
     },
     "metadata": {},
     "output_type": "display_data"
    }
   ],
   "source": [
    "print('Training set evaluation')\n",
    "y_train_pred = model_rf.predict(X_train)\n",
    "print(classification_report(y_train, y_train_pred, target_names=target_names))\n",
    "\n",
    "print('Test set evaluation')\n",
    "y_test_pred = model_rf.predict(X_test)\n",
    "print(classification_report(y_test, y_test_pred, target_names=target_names))\n",
    "\n",
    "cnf_matrix = confusion_matrix(y_test, y_test_pred)\n",
    "plot_confusion_matrix(cnf_matrix, classes=target_names, normalize=False,\n",
    "                      title='Random Forest Confusion matrix, without normalization')\n",
    "plt.show()\n",
    "plot_confusion_matrix(cnf_matrix, classes=target_names, normalize=True,\n",
    "                      title='Random Forest Confusion matrix, with normalization')\n",
    "plt.show()"
   ]
  },
  {
   "cell_type": "code",
   "execution_count": 24,
   "metadata": {},
   "outputs": [],
   "source": [
    "filtered_column_names = df_filtered.columns.tolist()\n",
    "filtered_column_names.remove('PUBCSNUM')\n",
    "filtered_column_names.remove('SRV_TIME_MON')\n",
    "\n",
    "with open('column_info.txt', 'w') as f:\n",
    "    f.write(' '.join(filtered_column_names))\n"
   ]
  },
  {
   "cell_type": "code",
   "execution_count": null,
   "metadata": {},
   "outputs": [],
   "source": []
  }
 ],
 "metadata": {
  "kernelspec": {
   "display_name": "Python 3",
   "language": "python",
   "name": "python3"
  },
  "language_info": {
   "codemirror_mode": {
    "name": "ipython",
    "version": 3
   },
   "file_extension": ".py",
   "mimetype": "text/x-python",
   "name": "python",
   "nbconvert_exporter": "python",
   "pygments_lexer": "ipython3",
   "version": "3.6.6"
  }
 },
 "nbformat": 4,
 "nbformat_minor": 2
}
