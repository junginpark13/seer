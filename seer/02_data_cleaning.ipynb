{
 "cells": [
  {
   "cell_type": "code",
   "execution_count": null,
   "metadata": {},
   "outputs": [],
   "source": [
    "import numpy as np\n",
    "import os\n",
    "import pandas as pd"
   ]
  },
  {
   "cell_type": "code",
   "execution_count": null,
   "metadata": {},
   "outputs": [],
   "source": [
    "# Data loading\n",
    "\n",
    "data_dir = '/Users/junginpark/data/SEER_1973_2015_TEXTDATA/incidence/csv'\n",
    "subdirs = ['yr1973_2015.seer9', 'yr1992_2015.sj_la_rg_ak', 'yr2000_2015.ca_ky_lo_nj_ga', 'yr2005.lo_2nd_half']\n",
    "\n",
    "dfs = []\n",
    "for subdir in subdirs:\n",
    "    csv_filename = f'/Users/junginpark/data/SEER_1973_2015_TEXTDATA/incidence/csv/{subdir}/COLRECT.csv'\n",
    "    dfs.append(pd.read_csv(csv_filename, low_memory=False))\n",
    "    print(f'Number of rows: {dfs[-1].shape[0]} x columns: {dfs[-1].shape[1]}')\n",
    "df = pd.concat(dfs, axis=0)\n",
    "\n",
    "display(df.head())\n",
    "\n",
    "print(f'Raw input - number of rows: {df.shape[0]} x columns: {df.shape[1]}')"
   ]
  },
  {
   "cell_type": "code",
   "execution_count": null,
   "metadata": {},
   "outputs": [],
   "source": [
    "# Basic clean-up\n",
    "df_cleaned = df.drop(columns=['Unnamed: 0'])\n",
    "df_cleaned = df_cleaned.drop_duplicates(subset='PUBCSNUM')\n",
    "\n",
    "# Sanity check\n",
    "assert len(df_cleaned.PUBCSNUM.unique()) == len(df_cleaned.PUBCSNUM)\n",
    "\n",
    "print(f'After cleaning - number of rows: {df_cleaned.shape[0]} x columns: {df_cleaned.shape[1]}')"
   ]
  },
  {
   "cell_type": "code",
   "execution_count": null,
   "metadata": {},
   "outputs": [],
   "source": [
    "# Read curation and run feature selection\n",
    "curation = pd.read_excel('/Users/junginpark/data/SEER_1973_2015_TEXTDATA/inclusion.xlsx', sheet_name='Sheet2')\n",
    "\n",
    "feature_names = [str(x).strip().upper() for x in curation['SAS Variable Name\\xa0'].values]\n",
    "feature_types = [str(x).strip() for x in curation['Type'].values]\n",
    "\n",
    "categorical_features = [feature_names[i] for i in range(len(feature_names)) if feature_types[i] == 'categorical']\n",
    "\n",
    "print(f'{len(categorical_features)} categorical features among total {len(feature_names)} features')\n",
    "\n",
    "df_cleaned = df_cleaned[feature_names]\n",
    "df_cleaned.head()"
   ]
  },
  {
   "cell_type": "code",
   "execution_count": null,
   "metadata": {},
   "outputs": [],
   "source": [
    "# Convert categorical features into numerics\n",
    "\n",
    "def category_to_int(df, column):\n",
    "    return pd.concat([df, pd.get_dummies(df[column], prefix=column + '_')], axis=1)\n",
    "\n",
    "df_converted = df_cleaned\n",
    "for feature in categorical_features:\n",
    "    df_converted = category_to_int(df_converted, feature)\n",
    "\n",
    "df_converted = df_converted.drop(columns=categorical_features, axis=1)\n",
    "df_converted.head()"
   ]
  },
  {
   "cell_type": "code",
   "execution_count": null,
   "metadata": {},
   "outputs": [],
   "source": [
    "# Sanity check - no NaN\n",
    "\n",
    "nan_sum = df_converted.isna().sum()\n",
    "assert nan_sum.values.sum() == 0"
   ]
  },
  {
   "cell_type": "code",
   "execution_count": null,
   "metadata": {},
   "outputs": [],
   "source": [
    "# Write output\n",
    "output_filename = os.path.join(data_dir, 'COLRECT_converted.csv')\n",
    "df_converted.to_csv(output_filename)\n",
    "\n",
    "output_filename = os.path.join(data_dir, 'COLRECT_converted.pickle')\n",
    "df_converted.to_pickle(output_filename)"
   ]
  },
  {
   "cell_type": "code",
   "execution_count": null,
   "metadata": {},
   "outputs": [],
   "source": []
  }
 ],
 "metadata": {
  "kernelspec": {
   "display_name": "Python 3",
   "language": "python",
   "name": "python3"
  },
  "language_info": {
   "codemirror_mode": {
    "name": "ipython",
    "version": 3
   },
   "file_extension": ".py",
   "mimetype": "text/x-python",
   "name": "python",
   "nbconvert_exporter": "python",
   "pygments_lexer": "ipython3",
   "version": "3.6.6"
  }
 },
 "nbformat": 4,
 "nbformat_minor": 2
}
