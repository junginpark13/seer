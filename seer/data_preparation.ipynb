{
 "cells": [
  {
   "cell_type": "code",
   "execution_count": null,
   "metadata": {},
   "outputs": [],
   "source": [
    "import os\n",
    "import pandas as pd\n",
    "import utils"
   ]
  },
  {
   "cell_type": "code",
   "execution_count": null,
   "metadata": {},
   "outputs": [],
   "source": [
    "data_dir = '/Users/junginpark/data/SEER_1973_2015_TEXTDATA/incidence'\n",
    "sas_filename = os.path.join(data_dir, 'read.seer.research.nov17.sas')\n",
    "\n",
    "columns = []\n",
    "with open(sas_filename, 'r') as f:\n",
    "    lines = f.readlines()[5:]\n",
    "    for line in lines:\n",
    "        line = line.strip().rstrip(';').strip()\n",
    "        tokens = line.split()\n",
    "        start_offset = int(tokens[1]) - 1\n",
    "        short_name = tokens[2]\n",
    "        width = int(tokens[3][5:-1])\n",
    "        long_name = ' '.join(tokens[5:-1])\n",
    "        columns.append((start_offset, width, short_name, long_name))\n",
    "        "
   ]
  },
  {
   "cell_type": "code",
   "execution_count": null,
   "metadata": {},
   "outputs": [],
   "source": [
    "txt_filenames = sorted(utils.get_all_files(data_dir, '*.TXT'))"
   ]
  },
  {
   "cell_type": "code",
   "execution_count": null,
   "metadata": {},
   "outputs": [],
   "source": [
    "for txt_filename in txt_filenames:\n",
    "    print(f'Processing {txt_filename}...')\n",
    "    data = []\n",
    "    with open(txt_filename, 'r') as f:\n",
    "        lines = f.readlines()\n",
    "        for i, line in enumerate(lines):\n",
    "            row = {}\n",
    "            for col in columns:\n",
    "                start_offset, width, short_name, _ = col\n",
    "                row[short_name] = line[start_offset:start_offset + width]\n",
    "            data.append(row)\n",
    "            if (i + 1) % 100000 == 0:\n",
    "                print(f'> Read {i+1} rows...')\n",
    "        print(f'> Read {i+1} rows...')\n",
    "    df = pd.DataFrame(data)\n",
    "    \n",
    "    csv_dir = os.path.join(data_dir, 'csv')    \n",
    "    csv_filename = txt_filename.replace(data_dir, csv_dir).replace('.TXT', '.csv')\n",
    "    \n",
    "    if not os.path.exists(os.path.dirname(csv_filename)):\n",
    "        os.makedirs(os.path.dirname(csv_filename))\n",
    "    \n",
    "    print(f'> Writing to {csv_filename}...')\n",
    "    df.to_csv(csv_filename)\n",
    "    \n",
    "    print(f'> Done processing {txt_filename}')\n"
   ]
  },
  {
   "cell_type": "code",
   "execution_count": null,
   "metadata": {},
   "outputs": [],
   "source": []
  }
 ],
 "metadata": {
  "kernelspec": {
   "display_name": "Python 3",
   "language": "python",
   "name": "python3"
  },
  "language_info": {
   "codemirror_mode": {
    "name": "ipython",
    "version": 3
   },
   "file_extension": ".py",
   "mimetype": "text/x-python",
   "name": "python",
   "nbconvert_exporter": "python",
   "pygments_lexer": "ipython3",
   "version": "3.6.6"
  }
 },
 "nbformat": 4,
 "nbformat_minor": 2
}
