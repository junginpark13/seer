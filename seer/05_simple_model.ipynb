{
 "cells": [
  {
   "cell_type": "code",
   "execution_count": 1,
   "metadata": {},
   "outputs": [],
   "source": [
    "import numpy as np\n",
    "import pandas as pd\n",
    "import matplotlib.pyplot as plt\n",
    "\n",
    "from sklearn.model_selection import train_test_split\n",
    "from sklearn.feature_selection import SelectFromModel\n",
    "from sklearn.preprocessing import MinMaxScaler\n",
    "from sklearn.linear_model import LogisticRegression\n",
    "from sklearn.svm import SVC\n",
    "from sklearn.svm import LinearSVC\n",
    "from sklearn.neural_network import MLPClassifier\n",
    "from sklearn.ensemble import RandomForestClassifier\n",
    "from sklearn.externals import joblib\n",
    "from sklearn.metrics import classification_report\n",
    "from sklearn.metrics import confusion_matrix\n",
    "\n",
    "from utils import plot_confusion_matrix"
   ]
  },
  {
   "cell_type": "code",
   "execution_count": 2,
   "metadata": {},
   "outputs": [
    {
     "data": {
      "text/html": [
       "<div>\n",
       "<style scoped>\n",
       "    .dataframe tbody tr th:only-of-type {\n",
       "        vertical-align: middle;\n",
       "    }\n",
       "\n",
       "    .dataframe tbody tr th {\n",
       "        vertical-align: top;\n",
       "    }\n",
       "\n",
       "    .dataframe thead th {\n",
       "        text-align: right;\n",
       "    }\n",
       "</style>\n",
       "<table border=\"1\" class=\"dataframe\">\n",
       "  <thead>\n",
       "    <tr style=\"text-align: right;\">\n",
       "      <th></th>\n",
       "      <th>PUBCSNUM</th>\n",
       "      <th>BENBORDCOUNT</th>\n",
       "      <th>MDXRECMP</th>\n",
       "      <th>AGE_DX</th>\n",
       "      <th>MALIGCOUNT</th>\n",
       "      <th>SRV_TIME_MON</th>\n",
       "      <th>YEAR_DX</th>\n",
       "      <th>REC_NO</th>\n",
       "      <th>REG__0000001501</th>\n",
       "      <th>REG__0000001502</th>\n",
       "      <th>...</th>\n",
       "      <th>AYASITERWHO__52</th>\n",
       "      <th>AYASITERWHO__55</th>\n",
       "      <th>AYASITERWHO__56</th>\n",
       "      <th>AYASITERWHO__99</th>\n",
       "      <th>INTPRIM__0</th>\n",
       "      <th>INTPRIM__1</th>\n",
       "      <th>INTPRIM__9</th>\n",
       "      <th>CSSCHEMA__25</th>\n",
       "      <th>CSSCHEMA__26</th>\n",
       "      <th>CSSCHEMA__36</th>\n",
       "    </tr>\n",
       "  </thead>\n",
       "  <tbody>\n",
       "    <tr>\n",
       "      <th>9</th>\n",
       "      <td>07000085</td>\n",
       "      <td>00</td>\n",
       "      <td>02</td>\n",
       "      <td>077</td>\n",
       "      <td>04</td>\n",
       "      <td>0047</td>\n",
       "      <td>2007</td>\n",
       "      <td>02</td>\n",
       "      <td>0</td>\n",
       "      <td>1</td>\n",
       "      <td>...</td>\n",
       "      <td>0</td>\n",
       "      <td>0</td>\n",
       "      <td>0</td>\n",
       "      <td>0</td>\n",
       "      <td>0</td>\n",
       "      <td>1</td>\n",
       "      <td>0</td>\n",
       "      <td>0</td>\n",
       "      <td>1</td>\n",
       "      <td>0</td>\n",
       "    </tr>\n",
       "    <tr>\n",
       "      <th>32</th>\n",
       "      <td>07000321</td>\n",
       "      <td>00</td>\n",
       "      <td>09</td>\n",
       "      <td>086</td>\n",
       "      <td>02</td>\n",
       "      <td>0039</td>\n",
       "      <td>2012</td>\n",
       "      <td>01</td>\n",
       "      <td>0</td>\n",
       "      <td>1</td>\n",
       "      <td>...</td>\n",
       "      <td>0</td>\n",
       "      <td>0</td>\n",
       "      <td>0</td>\n",
       "      <td>0</td>\n",
       "      <td>0</td>\n",
       "      <td>1</td>\n",
       "      <td>0</td>\n",
       "      <td>1</td>\n",
       "      <td>0</td>\n",
       "      <td>0</td>\n",
       "    </tr>\n",
       "    <tr>\n",
       "      <th>44</th>\n",
       "      <td>07000411</td>\n",
       "      <td>00</td>\n",
       "      <td>07</td>\n",
       "      <td>088</td>\n",
       "      <td>02</td>\n",
       "      <td>0038</td>\n",
       "      <td>2006</td>\n",
       "      <td>01</td>\n",
       "      <td>0</td>\n",
       "      <td>1</td>\n",
       "      <td>...</td>\n",
       "      <td>0</td>\n",
       "      <td>0</td>\n",
       "      <td>0</td>\n",
       "      <td>0</td>\n",
       "      <td>0</td>\n",
       "      <td>1</td>\n",
       "      <td>0</td>\n",
       "      <td>1</td>\n",
       "      <td>0</td>\n",
       "      <td>0</td>\n",
       "    </tr>\n",
       "    <tr>\n",
       "      <th>57</th>\n",
       "      <td>07000510</td>\n",
       "      <td>00</td>\n",
       "      <td>05</td>\n",
       "      <td>082</td>\n",
       "      <td>03</td>\n",
       "      <td>0016</td>\n",
       "      <td>2011</td>\n",
       "      <td>02</td>\n",
       "      <td>0</td>\n",
       "      <td>1</td>\n",
       "      <td>...</td>\n",
       "      <td>0</td>\n",
       "      <td>0</td>\n",
       "      <td>0</td>\n",
       "      <td>0</td>\n",
       "      <td>0</td>\n",
       "      <td>1</td>\n",
       "      <td>0</td>\n",
       "      <td>1</td>\n",
       "      <td>0</td>\n",
       "      <td>0</td>\n",
       "    </tr>\n",
       "    <tr>\n",
       "      <th>73</th>\n",
       "      <td>07000635</td>\n",
       "      <td>00</td>\n",
       "      <td>05</td>\n",
       "      <td>083</td>\n",
       "      <td>02</td>\n",
       "      <td>0067</td>\n",
       "      <td>2010</td>\n",
       "      <td>01</td>\n",
       "      <td>0</td>\n",
       "      <td>1</td>\n",
       "      <td>...</td>\n",
       "      <td>0</td>\n",
       "      <td>0</td>\n",
       "      <td>0</td>\n",
       "      <td>0</td>\n",
       "      <td>0</td>\n",
       "      <td>1</td>\n",
       "      <td>0</td>\n",
       "      <td>1</td>\n",
       "      <td>0</td>\n",
       "      <td>0</td>\n",
       "    </tr>\n",
       "  </tbody>\n",
       "</table>\n",
       "<p>5 rows × 1051 columns</p>\n",
       "</div>"
      ],
      "text/plain": [
       "    PUBCSNUM BENBORDCOUNT MDXRECMP AGE_DX MALIGCOUNT SRV_TIME_MON  YEAR_DX  \\\n",
       "9   07000085           00       02    077         04         0047     2007   \n",
       "32  07000321           00       09    086         02         0039     2012   \n",
       "44  07000411           00       07    088         02         0038     2006   \n",
       "57  07000510           00       05    082         03         0016     2011   \n",
       "73  07000635           00       05    083         02         0067     2010   \n",
       "\n",
       "   REC_NO  REG__0000001501  REG__0000001502      ...       AYASITERWHO__52  \\\n",
       "9      02                0                1      ...                     0   \n",
       "32     01                0                1      ...                     0   \n",
       "44     01                0                1      ...                     0   \n",
       "57     02                0                1      ...                     0   \n",
       "73     01                0                1      ...                     0   \n",
       "\n",
       "    AYASITERWHO__55  AYASITERWHO__56  AYASITERWHO__99  INTPRIM__0  INTPRIM__1  \\\n",
       "9                 0                0                0           0           1   \n",
       "32                0                0                0           0           1   \n",
       "44                0                0                0           0           1   \n",
       "57                0                0                0           0           1   \n",
       "73                0                0                0           0           1   \n",
       "\n",
       "    INTPRIM__9  CSSCHEMA__25  CSSCHEMA__26  CSSCHEMA__36  \n",
       "9            0             0             1             0  \n",
       "32           0             1             0             0  \n",
       "44           0             1             0             0  \n",
       "57           0             1             0             0  \n",
       "73           0             1             0             0  \n",
       "\n",
       "[5 rows x 1051 columns]"
      ]
     },
     "execution_count": 2,
     "metadata": {},
     "output_type": "execute_result"
    }
   ],
   "source": [
    "filename = 'output/COLRECT_pivoted.pickle'\n",
    "\n",
    "df_filtered = pd.read_pickle(filename)\n",
    "\n",
    "df_filtered.head()"
   ]
  },
  {
   "cell_type": "code",
   "execution_count": 3,
   "metadata": {},
   "outputs": [
    {
     "name": "stdout",
     "output_type": "stream",
     "text": [
      "Feature shape: (277984, 1049)\n"
     ]
    }
   ],
   "source": [
    "# Prepare training\n",
    "\n",
    "x_df = df_filtered.drop(columns=['PUBCSNUM', 'SRV_TIME_MON'])\n",
    "X = x_df.values.astype(np.float32)\n",
    "y_cont = df_filtered.SRV_TIME_MON.values.astype(np.float32)\n",
    "y = np.where(y_cont > 60, 1, 0)\n",
    "\n",
    "print(f'Feature shape: {X.shape}')\n",
    "\n",
    "X_train, X_test, y_train, y_test = train_test_split(X, y, test_size=0.3, random_state=42)"
   ]
  },
  {
   "cell_type": "code",
   "execution_count": 5,
   "metadata": {},
   "outputs": [
    {
     "name": "stdout",
     "output_type": "stream",
     "text": [
      "Start training random forest...\n"
     ]
    },
    {
     "data": {
      "text/plain": [
       "RandomForestClassifier(bootstrap=True, class_weight=None, criterion='gini',\n",
       "            max_depth=None, max_features='auto', max_leaf_nodes=None,\n",
       "            min_impurity_decrease=0.0, min_impurity_split=None,\n",
       "            min_samples_leaf=1, min_samples_split=2,\n",
       "            min_weight_fraction_leaf=0.0, n_estimators=10, n_jobs=8,\n",
       "            oob_score=False, random_state=42, verbose=0, warm_start=False)"
      ]
     },
     "execution_count": 5,
     "metadata": {},
     "output_type": "execute_result"
    }
   ],
   "source": [
    "# Feature selection (Step 1. RF training)\n",
    "\n",
    "print('Start training random forest...')\n",
    "model_for_fs = RandomForestClassifier(n_jobs=8, n_estimators=10, random_state=42)\n",
    "model_for_fs.fit(X_train, y_train)"
   ]
  },
  {
   "cell_type": "code",
   "execution_count": 9,
   "metadata": {},
   "outputs": [],
   "source": [
    "# Feature selection (Step 2. create feature selector)\n",
    "\n",
    "feature_selector = SelectFromModel(model_for_fs, prefit=True)\n",
    "\n",
    "feature_selected_column_names = x_df.columns[feature_selector.get_support()].values\n",
    "\n",
    "with open('feature_selected_column_info.txt', 'w') as f:\n",
    "    f.write(' '.join(feature_selected_column_names))\n",
    "    \n",
    "with open('feature_selected_column_info_simple.txt', 'w') as f:\n",
    "    simple = []\n",
    "    for name in feature_selected_column_names:\n",
    "        simple.append(name.split('_')[0])\n",
    "    simple = list(set(simple))\n",
    "    f.write(' '.join(simple))\n",
    "    "
   ]
  },
  {
   "cell_type": "code",
   "execution_count": 18,
   "metadata": {},
   "outputs": [],
   "source": [
    "feature_importance = model_for_fs.feature_importances_[feature_selector.get_support()]\n",
    "\n",
    "tmp = [(fn, fi) for fn, fi in zip(feature_selected_column_names, feature_importance)]\n",
    "tmp_sorted = sorted(tmp, key=lambda tup: tup[1], reverse=True)\n",
    "\n",
    "with open('feature_importance.txt', 'w') as f:\n",
    "    for fn, fi in tmp_sorted:\n",
    "        line = f'{fn}, {fi}\\n'\n",
    "        f.write(line)"
   ]
  },
  {
   "cell_type": "code",
   "execution_count": 8,
   "metadata": {},
   "outputs": [
    {
     "name": "stdout",
     "output_type": "stream",
     "text": [
      "Number of selected features: 146\n"
     ]
    }
   ],
   "source": [
    "# Feature selection (Step 2. transform Xs)\n",
    "\n",
    "X_train_fs = feature_selector.transform(X_train)\n",
    "X_test_fs = feature_selector.transform(X_test)\n",
    "\n",
    "print(f'Number of selected features: {X_train_fs.shape[1]}')"
   ]
  },
  {
   "cell_type": "code",
   "execution_count": 9,
   "metadata": {},
   "outputs": [
    {
     "data": {
      "text/plain": [
       "['scalar.pickle']"
      ]
     },
     "execution_count": 9,
     "metadata": {},
     "output_type": "execute_result"
    }
   ],
   "source": [
    "# Scaling\n",
    "\n",
    "scalar = MinMaxScaler()\n",
    "scalar.fit(X_train_fs)\n",
    "\n",
    "X_train_scaled = scalar.transform(X_train_fs)\n",
    "X_test_scaled = scalar.transform(X_test_fs)\n",
    "\n",
    "joblib.dump(scalar, 'scalar.pickle')"
   ]
  },
  {
   "cell_type": "code",
   "execution_count": 10,
   "metadata": {},
   "outputs": [
    {
     "name": "stdout",
     "output_type": "stream",
     "text": [
      "Start training logistic regression...\n"
     ]
    },
    {
     "name": "stderr",
     "output_type": "stream",
     "text": [
      "/Users/doyubkim/miniconda3/envs/py36/lib/python3.6/site-packages/sklearn/linear_model/logistic.py:432: FutureWarning: Default solver will be changed to 'lbfgs' in 0.22. Specify a solver to silence this warning.\n",
      "  FutureWarning)\n"
     ]
    },
    {
     "name": "stdout",
     "output_type": "stream",
     "text": [
      "Saving logistic regression model...\n"
     ]
    },
    {
     "data": {
      "text/plain": [
       "['model_lr.pickle']"
      ]
     },
     "execution_count": 10,
     "metadata": {},
     "output_type": "execute_result"
    }
   ],
   "source": [
    "# Logistic Regression\n",
    "\n",
    "print('Start training logistic regression...')\n",
    "model_lr = LogisticRegression()\n",
    "model_lr.fit(X_train_scaled, y_train)\n",
    "\n",
    "print('Saving logistic regression model...')\n",
    "joblib.dump(model_lr, 'model_lr.pickle')"
   ]
  },
  {
   "cell_type": "code",
   "execution_count": 11,
   "metadata": {},
   "outputs": [
    {
     "name": "stdout",
     "output_type": "stream",
     "text": [
      "Training set evaluation\n",
      "              precision    recall  f1-score   support\n",
      "\n",
      "     <= 5yrs       0.84      0.88      0.86    131888\n",
      "      > 5yrs       0.72      0.66      0.69     62700\n",
      "\n",
      "   micro avg       0.81      0.81      0.81    194588\n",
      "   macro avg       0.78      0.77      0.77    194588\n",
      "weighted avg       0.80      0.81      0.80    194588\n",
      "\n",
      "Test set evaluation\n",
      "              precision    recall  f1-score   support\n",
      "\n",
      "     <= 5yrs       0.84      0.88      0.86     56342\n",
      "      > 5yrs       0.72      0.66      0.69     27054\n",
      "\n",
      "   micro avg       0.81      0.81      0.81     83396\n",
      "   macro avg       0.78      0.77      0.77     83396\n",
      "weighted avg       0.80      0.81      0.80     83396\n",
      "\n",
      "Confusion matrix, without normalization\n"
     ]
    },
    {
     "data": {
      "image/png": "[encoded data removed]",
      "text/plain": [
       "<Figure size 432x288 with 2 Axes>"
      ]
     },
     "metadata": {
      "needs_background": "light"
     },
     "output_type": "display_data"
    },
    {
     "name": "stdout",
     "output_type": "stream",
     "text": [
      "Normalized confusion matrix\n"
     ]
    },
    {
     "data": {
      "image/png": "[encoded data removed]",
      "text/plain": [
       "<Figure size 432x288 with 2 Axes>"
      ]
     },
     "metadata": {
      "needs_background": "light"
     },
     "output_type": "display_data"
    }
   ],
   "source": [
    "target_names = ['<= 5yrs', '> 5yrs']\n",
    "\n",
    "def eval(model, name, Xtr=X_train_scaled, Xts=X_test_scaled):\n",
    "    print('Training set evaluation')\n",
    "    y_train_pred = model.predict(Xtr)\n",
    "    print(classification_report(y_train, y_train_pred, target_names=target_names))\n",
    "\n",
    "    print('Test set evaluation')\n",
    "    y_test_pred = model.predict(Xts)\n",
    "    print(classification_report(y_test, y_test_pred, target_names=target_names))\n",
    "\n",
    "    cnf_matrix = confusion_matrix(y_test, y_test_pred)\n",
    "    plot_confusion_matrix(cnf_matrix, classes=target_names, normalize=False,\n",
    "                          title=f'{name} Confusion matrix, without normalization')\n",
    "    plt.show()\n",
    "    plot_confusion_matrix(cnf_matrix, classes=target_names, normalize=True,\n",
    "                          title=f'{name} Confusion matrix, with normalization')\n",
    "    plt.show()\n",
    "    \n",
    "eval(model_lr, 'Logistic Regression')"
   ]
  },
  {
   "cell_type": "code",
   "execution_count": 14,
   "metadata": {},
   "outputs": [
    {
     "name": "stdout",
     "output_type": "stream",
     "text": [
      "Start training random forest...\n",
      "Saving random forest model...\n"
     ]
    },
    {
     "data": {
      "text/plain": [
       "['model_rf.pickle']"
      ]
     },
     "execution_count": 14,
     "metadata": {},
     "output_type": "execute_result"
    }
   ],
   "source": [
    "# Random Forest\n",
    "\n",
    "print('Start training random forest...')\n",
    "model_rf = RandomForestClassifier(n_estimators=100,\n",
    "                                  n_jobs=8, \n",
    "                                  random_state=42)\n",
    "model_rf.fit(X_train_scaled, y_train)\n",
    "\n",
    "print('Saving random forest model...')\n",
    "joblib.dump(model_rf, 'model_rf.pickle')"
   ]
  },
  {
   "cell_type": "code",
   "execution_count": 15,
   "metadata": {},
   "outputs": [
    {
     "name": "stdout",
     "output_type": "stream",
     "text": [
      "Training set evaluation\n",
      "              precision    recall  f1-score   support\n",
      "\n",
      "     <= 5yrs       1.00      1.00      1.00    131888\n",
      "      > 5yrs       1.00      1.00      1.00     62700\n",
      "\n",
      "   micro avg       1.00      1.00      1.00    194588\n",
      "   macro avg       1.00      1.00      1.00    194588\n",
      "weighted avg       1.00      1.00      1.00    194588\n",
      "\n",
      "Test set evaluation\n",
      "              precision    recall  f1-score   support\n",
      "\n",
      "     <= 5yrs       0.89      0.86      0.88     56342\n",
      "      > 5yrs       0.73      0.78      0.76     27054\n",
      "\n",
      "   micro avg       0.84      0.84      0.84     83396\n",
      "   macro avg       0.81      0.82      0.82     83396\n",
      "weighted avg       0.84      0.84      0.84     83396\n",
      "\n",
      "Confusion matrix, without normalization\n"
     ]
    },
    {
     "data": {
      "image/png": "[encoded data removed]",
      "text/plain": [
       "<Figure size 432x288 with 2 Axes>"
      ]
     },
     "metadata": {
      "needs_background": "light"
     },
     "output_type": "display_data"
    },
    {
     "name": "stdout",
     "output_type": "stream",
     "text": [
      "Normalized confusion matrix\n"
     ]
    },
    {
     "data": {
      "image/png": "[encoded data removed]",
      "text/plain": [
       "<Figure size 432x288 with 2 Axes>"
      ]
     },
     "metadata": {
      "needs_background": "light"
     },
     "output_type": "display_data"
    }
   ],
   "source": [
    "eval(model_rf, 'Random Forest')"
   ]
  },
  {
   "cell_type": "code",
   "execution_count": 16,
   "metadata": {},
   "outputs": [
    {
     "name": "stdout",
     "output_type": "stream",
     "text": [
      "Start training linear SVM...\n",
      "Saving Linear SVM model...\n"
     ]
    },
    {
     "data": {
      "text/plain": [
       "['model_lsvm.pickle']"
      ]
     },
     "execution_count": 16,
     "metadata": {},
     "output_type": "execute_result"
    }
   ],
   "source": [
    "# Linear SVM\n",
    "\n",
    "print('Start training linear SVM...')\n",
    "model_lsvm = LinearSVC(random_state=42)\n",
    "model_lsvm.fit(X_train_scaled, y_train)\n",
    "\n",
    "print('Saving Linear SVM model...')\n",
    "joblib.dump(model_lsvm, 'model_lsvm.pickle')"
   ]
  },
  {
   "cell_type": "code",
   "execution_count": 17,
   "metadata": {},
   "outputs": [
    {
     "name": "stdout",
     "output_type": "stream",
     "text": [
      "Training set evaluation\n",
      "              precision    recall  f1-score   support\n",
      "\n",
      "     <= 5yrs       0.85      0.87      0.86    131888\n",
      "      > 5yrs       0.72      0.67      0.69     62700\n",
      "\n",
      "   micro avg       0.81      0.81      0.81    194588\n",
      "   macro avg       0.78      0.77      0.78    194588\n",
      "weighted avg       0.81      0.81      0.81    194588\n",
      "\n",
      "Test set evaluation\n",
      "              precision    recall  f1-score   support\n",
      "\n",
      "     <= 5yrs       0.85      0.87      0.86     56342\n",
      "      > 5yrs       0.72      0.67      0.69     27054\n",
      "\n",
      "   micro avg       0.81      0.81      0.81     83396\n",
      "   macro avg       0.78      0.77      0.78     83396\n",
      "weighted avg       0.80      0.81      0.81     83396\n",
      "\n",
      "Confusion matrix, without normalization\n"
     ]
    },
    {
     "data": {
      "image/png": "[encoded data removed]",
      "text/plain": [
       "<Figure size 432x288 with 2 Axes>"
      ]
     },
     "metadata": {
      "needs_background": "light"
     },
     "output_type": "display_data"
    },
    {
     "name": "stdout",
     "output_type": "stream",
     "text": [
      "Normalized confusion matrix\n"
     ]
    },
    {
     "data": {
      "image/png": "[encoded data removed]",
      "text/plain": [
       "<Figure size 432x288 with 2 Axes>"
      ]
     },
     "metadata": {
      "needs_background": "light"
     },
     "output_type": "display_data"
    }
   ],
   "source": [
    "eval(model_lsvm, 'Linear SVM')"
   ]
  },
  {
   "cell_type": "code",
   "execution_count": 18,
   "metadata": {},
   "outputs": [
    {
     "name": "stdout",
     "output_type": "stream",
     "text": [
      "Start training MLP...\n",
      "Iteration 1, loss = 0.42750421\n",
      "Iteration 2, loss = 0.36988109\n",
      "Iteration 3, loss = 0.33604909\n",
      "Iteration 4, loss = 0.32372977\n",
      "Iteration 5, loss = 0.31807650\n",
      "Iteration 6, loss = 0.31409208\n",
      "Iteration 7, loss = 0.31158577\n",
      "Iteration 8, loss = 0.30973613\n",
      "Iteration 9, loss = 0.30821208\n",
      "Iteration 10, loss = 0.30691492\n",
      "Iteration 11, loss = 0.30576719\n",
      "Iteration 12, loss = 0.30436305\n",
      "Iteration 13, loss = 0.30374471\n",
      "Iteration 14, loss = 0.30296372\n",
      "Iteration 15, loss = 0.30222045\n",
      "Iteration 16, loss = 0.30142099\n",
      "Iteration 17, loss = 0.30048763\n",
      "Iteration 18, loss = 0.30005455\n",
      "Iteration 19, loss = 0.29920485\n",
      "Iteration 20, loss = 0.29870444\n",
      "Iteration 21, loss = 0.29802381\n",
      "Iteration 22, loss = 0.29736079\n",
      "Iteration 23, loss = 0.29693438\n",
      "Iteration 24, loss = 0.29620528\n",
      "Iteration 25, loss = 0.29556405\n",
      "Iteration 26, loss = 0.29501563\n",
      "Iteration 27, loss = 0.29433942\n",
      "Iteration 28, loss = 0.29371609\n",
      "Iteration 29, loss = 0.29320278\n",
      "Iteration 30, loss = 0.29275751\n",
      "Iteration 31, loss = 0.29202102\n",
      "Iteration 32, loss = 0.29131796\n",
      "Iteration 33, loss = 0.29082502\n",
      "Iteration 34, loss = 0.29038143\n",
      "Iteration 35, loss = 0.28953415\n",
      "Iteration 36, loss = 0.28926666\n",
      "Iteration 37, loss = 0.28832390\n",
      "Iteration 38, loss = 0.28789921\n",
      "Iteration 39, loss = 0.28758957\n",
      "Iteration 40, loss = 0.28670626\n",
      "Iteration 41, loss = 0.28652541\n",
      "Iteration 42, loss = 0.28590345\n",
      "Iteration 43, loss = 0.28568604\n",
      "Iteration 44, loss = 0.28525679\n",
      "Iteration 45, loss = 0.28447643\n",
      "Iteration 46, loss = 0.28422334\n",
      "Iteration 47, loss = 0.28415821\n",
      "Iteration 48, loss = 0.28355949\n",
      "Iteration 49, loss = 0.28350493\n",
      "Iteration 50, loss = 0.28301911\n",
      "Iteration 51, loss = 0.28255704\n",
      "Iteration 52, loss = 0.28251944\n",
      "Iteration 53, loss = 0.28170869\n",
      "Iteration 54, loss = 0.28151639\n",
      "Iteration 55, loss = 0.28116125\n",
      "Iteration 56, loss = 0.28073526\n",
      "Iteration 57, loss = 0.28062812\n",
      "Iteration 58, loss = 0.28031743\n",
      "Iteration 59, loss = 0.28000634\n",
      "Iteration 60, loss = 0.27947443\n",
      "Iteration 61, loss = 0.27938540\n",
      "Iteration 62, loss = 0.27932251\n",
      "Iteration 63, loss = 0.27883132\n",
      "Iteration 64, loss = 0.27866520\n",
      "Iteration 65, loss = 0.27841931\n",
      "Iteration 66, loss = 0.27827340\n",
      "Iteration 67, loss = 0.27778088\n",
      "Iteration 68, loss = 0.27748400\n",
      "Iteration 69, loss = 0.27715524\n",
      "Iteration 70, loss = 0.27697509\n",
      "Iteration 71, loss = 0.27680077\n",
      "Iteration 72, loss = 0.27645231\n",
      "Iteration 73, loss = 0.27650951\n",
      "Iteration 74, loss = 0.27637384\n",
      "Iteration 75, loss = 0.27594211\n",
      "Iteration 76, loss = 0.27589212\n",
      "Iteration 77, loss = 0.27553658\n",
      "Iteration 78, loss = 0.27527272\n",
      "Iteration 79, loss = 0.27504341\n",
      "Iteration 80, loss = 0.27488076\n",
      "Iteration 81, loss = 0.27487086\n",
      "Iteration 82, loss = 0.27460230\n",
      "Iteration 83, loss = 0.27426603\n",
      "Iteration 84, loss = 0.27426288\n",
      "Iteration 85, loss = 0.27403802\n",
      "Iteration 86, loss = 0.27390830\n",
      "Iteration 87, loss = 0.27371299\n",
      "Iteration 88, loss = 0.27332644\n",
      "Iteration 89, loss = 0.27308518\n",
      "Iteration 90, loss = 0.27302250\n",
      "Iteration 91, loss = 0.27298651\n",
      "Iteration 92, loss = 0.27282661\n",
      "Iteration 93, loss = 0.27265649\n",
      "Iteration 94, loss = 0.27275003\n",
      "Iteration 95, loss = 0.27225960\n",
      "Iteration 96, loss = 0.27210360\n",
      "Iteration 97, loss = 0.27226495\n",
      "Iteration 98, loss = 0.27180291\n",
      "Iteration 99, loss = 0.27192963\n",
      "Iteration 100, loss = 0.27170907\n",
      "Iteration 101, loss = 0.27160283\n",
      "Iteration 102, loss = 0.27118533\n",
      "Iteration 103, loss = 0.27123112\n",
      "Iteration 104, loss = 0.27131636\n",
      "Iteration 105, loss = 0.27091565\n",
      "Iteration 106, loss = 0.27116429\n",
      "Iteration 107, loss = 0.27046620\n",
      "Iteration 108, loss = 0.27011511\n",
      "Iteration 109, loss = 0.27059202\n",
      "Iteration 110, loss = 0.27027926\n",
      "Iteration 111, loss = 0.27017259\n",
      "Iteration 112, loss = 0.27007962\n",
      "Iteration 113, loss = 0.27001477\n",
      "Iteration 114, loss = 0.27023844\n",
      "Iteration 115, loss = 0.26979150\n",
      "Iteration 116, loss = 0.26974119\n",
      "Iteration 117, loss = 0.26976049\n",
      "Iteration 118, loss = 0.26955153\n",
      "Iteration 119, loss = 0.26931808\n",
      "Iteration 120, loss = 0.26928423\n",
      "Iteration 121, loss = 0.26921344\n",
      "Iteration 122, loss = 0.26922054\n",
      "Iteration 123, loss = 0.26908495\n",
      "Iteration 124, loss = 0.26899381\n",
      "Iteration 125, loss = 0.26881934\n",
      "Iteration 126, loss = 0.26864862\n",
      "Iteration 127, loss = 0.26862094\n",
      "Iteration 128, loss = 0.26851499\n",
      "Iteration 129, loss = 0.26876038\n",
      "Iteration 130, loss = 0.26848811\n",
      "Iteration 131, loss = 0.26844074\n",
      "Iteration 132, loss = 0.26856621\n",
      "Iteration 133, loss = 0.26801695\n",
      "Iteration 134, loss = 0.26804447\n",
      "Iteration 135, loss = 0.26780490\n",
      "Iteration 136, loss = 0.26801851\n",
      "Iteration 137, loss = 0.26765241\n",
      "Iteration 138, loss = 0.26786688\n",
      "Iteration 139, loss = 0.26741394\n",
      "Iteration 140, loss = 0.26744451\n",
      "Iteration 141, loss = 0.26744407\n",
      "Iteration 142, loss = 0.26730125\n",
      "Iteration 143, loss = 0.26729087\n",
      "Iteration 144, loss = 0.26739601\n",
      "Iteration 145, loss = 0.26702584\n",
      "Iteration 146, loss = 0.26729388\n",
      "Iteration 147, loss = 0.26722748\n",
      "Iteration 148, loss = 0.26703589\n",
      "Iteration 149, loss = 0.26702174\n",
      "Iteration 150, loss = 0.26681615\n",
      "Iteration 151, loss = 0.26678330\n",
      "Iteration 152, loss = 0.26669718\n",
      "Iteration 153, loss = 0.26662568\n",
      "Iteration 154, loss = 0.26664120\n",
      "Iteration 155, loss = 0.26676846\n",
      "Iteration 156, loss = 0.26665129\n",
      "Iteration 157, loss = 0.26643501\n",
      "Iteration 158, loss = 0.26630970\n",
      "Iteration 159, loss = 0.26648531\n",
      "Iteration 160, loss = 0.26608884\n",
      "Iteration 161, loss = 0.26651893\n",
      "Iteration 162, loss = 0.26588164\n",
      "Iteration 163, loss = 0.26610926\n",
      "Iteration 164, loss = 0.26616615\n",
      "Iteration 165, loss = 0.26588127\n",
      "Iteration 166, loss = 0.26602871\n",
      "Iteration 167, loss = 0.26563270\n",
      "Iteration 168, loss = 0.26599729\n",
      "Iteration 169, loss = 0.26552960\n",
      "Iteration 170, loss = 0.26570586\n",
      "Iteration 171, loss = 0.26541759\n",
      "Iteration 172, loss = 0.26561297\n",
      "Iteration 173, loss = 0.26542780\n",
      "Iteration 174, loss = 0.26546991\n",
      "Iteration 175, loss = 0.26579914\n",
      "Iteration 176, loss = 0.26538745\n",
      "Iteration 177, loss = 0.26547708\n",
      "Iteration 178, loss = 0.26537028\n",
      "Iteration 179, loss = 0.26497617\n",
      "Iteration 180, loss = 0.26531364\n",
      "Iteration 181, loss = 0.26518627\n",
      "Iteration 182, loss = 0.26505413\n",
      "Iteration 183, loss = 0.26491426\n",
      "Iteration 184, loss = 0.26497115\n",
      "Iteration 185, loss = 0.26493588\n",
      "Iteration 186, loss = 0.26479754\n",
      "Iteration 187, loss = 0.26488872\n",
      "Iteration 188, loss = 0.26517800\n",
      "Iteration 189, loss = 0.26477016\n",
      "Iteration 190, loss = 0.26465508\n",
      "Iteration 191, loss = 0.26472366\n",
      "Iteration 192, loss = 0.26456608\n",
      "Iteration 193, loss = 0.26463158\n",
      "Iteration 194, loss = 0.26464751\n",
      "Iteration 195, loss = 0.26440882\n",
      "Iteration 196, loss = 0.26440223\n",
      "Iteration 197, loss = 0.26451677\n",
      "Iteration 198, loss = 0.26416826\n",
      "Iteration 199, loss = 0.26419130\n",
      "Iteration 200, loss = 0.26445877\n",
      "Saving MLP model...\n"
     ]
    },
    {
     "name": "stderr",
     "output_type": "stream",
     "text": [
      "/Users/doyubkim/miniconda3/envs/py36/lib/python3.6/site-packages/sklearn/neural_network/multilayer_perceptron.py:562: ConvergenceWarning: Stochastic Optimizer: Maximum iterations (200) reached and the optimization hasn't converged yet.\n",
      "  % self.max_iter, ConvergenceWarning)\n"
     ]
    },
    {
     "data": {
      "text/plain": [
       "['model_mlp.pickle']"
      ]
     },
     "execution_count": 18,
     "metadata": {},
     "output_type": "execute_result"
    }
   ],
   "source": [
    "# MLP\n",
    "\n",
    "print('Start training MLP...')\n",
    "model_mlp = MLPClassifier(hidden_layer_sizes=(100,),\n",
    "                          random_state=42,\n",
    "                          verbose=True)\n",
    "model_mlp.fit(X_train_scaled, y_train)\n",
    "\n",
    "print('Saving MLP model...')\n",
    "joblib.dump(model_mlp, 'model_mlp.pickle')"
   ]
  },
  {
   "cell_type": "code",
   "execution_count": 19,
   "metadata": {},
   "outputs": [
    {
     "name": "stdout",
     "output_type": "stream",
     "text": [
      "Training set evaluation\n",
      "              precision    recall  f1-score   support\n",
      "\n",
      "     <= 5yrs       0.94      0.88      0.91    131888\n",
      "      > 5yrs       0.77      0.87      0.82     62700\n",
      "\n",
      "   micro avg       0.88      0.88      0.88    194588\n",
      "   macro avg       0.85      0.88      0.86    194588\n",
      "weighted avg       0.88      0.88      0.88    194588\n",
      "\n",
      "Test set evaluation\n",
      "              precision    recall  f1-score   support\n",
      "\n",
      "     <= 5yrs       0.90      0.84      0.87     56342\n",
      "      > 5yrs       0.71      0.80      0.75     27054\n",
      "\n",
      "   micro avg       0.83      0.83      0.83     83396\n",
      "   macro avg       0.80      0.82      0.81     83396\n",
      "weighted avg       0.84      0.83      0.83     83396\n",
      "\n",
      "Confusion matrix, without normalization\n"
     ]
    },
    {
     "data": {
      "image/png": "[encoded data removed]",
      "text/plain": [
       "<Figure size 432x288 with 2 Axes>"
      ]
     },
     "metadata": {
      "needs_background": "light"
     },
     "output_type": "display_data"
    },
    {
     "name": "stdout",
     "output_type": "stream",
     "text": [
      "Normalized confusion matrix\n"
     ]
    },
    {
     "data": {
      "image/png": "[encoded data removed]",
      "text/plain": [
       "<Figure size 432x288 with 2 Axes>"
      ]
     },
     "metadata": {
      "needs_background": "light"
     },
     "output_type": "display_data"
    }
   ],
   "source": [
    "eval(model_mlp, 'MLP', X_train_scaled, X_test_scaled)"
   ]
  },
  {
   "cell_type": "code",
   "execution_count": null,
   "metadata": {},
   "outputs": [],
   "source": []
  }
 ],
 "metadata": {
  "kernelspec": {
   "display_name": "Python 3",
   "language": "python",
   "name": "python3"
  },
  "language_info": {
   "codemirror_mode": {
    "name": "ipython",
    "version": 3
   },
   "file_extension": ".py",
   "mimetype": "text/x-python",
   "name": "python",
   "nbconvert_exporter": "python",
   "pygments_lexer": "ipython3",
   "version": "3.6.6"
  }
 },
 "nbformat": 4,
 "nbformat_minor": 2
}
