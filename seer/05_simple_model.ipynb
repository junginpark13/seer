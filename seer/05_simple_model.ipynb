{
 "cells": [
  {
   "cell_type": "code",
   "execution_count": 1,
   "metadata": {},
   "outputs": [],
   "source": [
    "import numpy as np\n",
    "import pandas as pd\n",
    "import matplotlib.pyplot as plt\n",
    "\n",
    "from sklearn.model_selection import train_test_split\n",
    "from sklearn.feature_selection import SelectFromModel\n",
    "from sklearn.preprocessing import MinMaxScaler\n",
    "from sklearn.linear_model import LogisticRegression\n",
    "from sklearn.svm import SVC\n",
    "from sklearn.svm import LinearSVC\n",
    "from sklearn.neural_network import MLPClassifier\n",
    "from sklearn.ensemble import RandomForestClassifier\n",
    "from sklearn.externals import joblib\n",
    "from sklearn.metrics import classification_report\n",
    "from sklearn.metrics import confusion_matrix\n",
    "\n",
    "from utils import plot_confusion_matrix"
   ]
  },
  {
   "cell_type": "code",
   "execution_count": 5,
   "metadata": {},
   "outputs": [
    {
     "data": {
      "text/html": [
       "<div>\n",
       "<style scoped>\n",
       "    .dataframe tbody tr th:only-of-type {\n",
       "        vertical-align: middle;\n",
       "    }\n",
       "\n",
       "    .dataframe tbody tr th {\n",
       "        vertical-align: top;\n",
       "    }\n",
       "\n",
       "    .dataframe thead th {\n",
       "        text-align: right;\n",
       "    }\n",
       "</style>\n",
       "<table border=\"1\" class=\"dataframe\">\n",
       "  <thead>\n",
       "    <tr style=\"text-align: right;\">\n",
       "      <th></th>\n",
       "      <th>PUBCSNUM</th>\n",
       "      <th>AGE_DX</th>\n",
       "      <th>MDXRECMP</th>\n",
       "      <th>YEAR_DX</th>\n",
       "      <th>REC_NO</th>\n",
       "      <th>SRV_TIME_MON</th>\n",
       "      <th>MALIGCOUNT</th>\n",
       "      <th>BENBORDCOUNT</th>\n",
       "      <th>REG__0000001501</th>\n",
       "      <th>REG__0000001502</th>\n",
       "      <th>...</th>\n",
       "      <th>ODTHCLASS__0</th>\n",
       "      <th>ODTHCLASS__1</th>\n",
       "      <th>ODTHCLASS__8</th>\n",
       "      <th>ODTHCLASS__9</th>\n",
       "      <th>INTPRIM__0</th>\n",
       "      <th>INTPRIM__1</th>\n",
       "      <th>INTPRIM__9</th>\n",
       "      <th>CSSCHEMA__25</th>\n",
       "      <th>CSSCHEMA__26</th>\n",
       "      <th>CSSCHEMA__36</th>\n",
       "    </tr>\n",
       "  </thead>\n",
       "  <tbody>\n",
       "    <tr>\n",
       "      <th>9</th>\n",
       "      <td>07000085</td>\n",
       "      <td>077</td>\n",
       "      <td>02</td>\n",
       "      <td>2007</td>\n",
       "      <td>02</td>\n",
       "      <td>0047</td>\n",
       "      <td>04</td>\n",
       "      <td>00</td>\n",
       "      <td>0</td>\n",
       "      <td>1</td>\n",
       "      <td>...</td>\n",
       "      <td>0</td>\n",
       "      <td>0</td>\n",
       "      <td>0</td>\n",
       "      <td>1</td>\n",
       "      <td>0</td>\n",
       "      <td>1</td>\n",
       "      <td>0</td>\n",
       "      <td>0</td>\n",
       "      <td>1</td>\n",
       "      <td>0</td>\n",
       "    </tr>\n",
       "    <tr>\n",
       "      <th>32</th>\n",
       "      <td>07000321</td>\n",
       "      <td>086</td>\n",
       "      <td>09</td>\n",
       "      <td>2012</td>\n",
       "      <td>01</td>\n",
       "      <td>0039</td>\n",
       "      <td>02</td>\n",
       "      <td>00</td>\n",
       "      <td>0</td>\n",
       "      <td>1</td>\n",
       "      <td>...</td>\n",
       "      <td>0</td>\n",
       "      <td>0</td>\n",
       "      <td>0</td>\n",
       "      <td>1</td>\n",
       "      <td>0</td>\n",
       "      <td>1</td>\n",
       "      <td>0</td>\n",
       "      <td>1</td>\n",
       "      <td>0</td>\n",
       "      <td>0</td>\n",
       "    </tr>\n",
       "    <tr>\n",
       "      <th>44</th>\n",
       "      <td>07000411</td>\n",
       "      <td>088</td>\n",
       "      <td>07</td>\n",
       "      <td>2006</td>\n",
       "      <td>01</td>\n",
       "      <td>0038</td>\n",
       "      <td>02</td>\n",
       "      <td>00</td>\n",
       "      <td>0</td>\n",
       "      <td>1</td>\n",
       "      <td>...</td>\n",
       "      <td>0</td>\n",
       "      <td>0</td>\n",
       "      <td>0</td>\n",
       "      <td>1</td>\n",
       "      <td>0</td>\n",
       "      <td>1</td>\n",
       "      <td>0</td>\n",
       "      <td>1</td>\n",
       "      <td>0</td>\n",
       "      <td>0</td>\n",
       "    </tr>\n",
       "    <tr>\n",
       "      <th>57</th>\n",
       "      <td>07000510</td>\n",
       "      <td>082</td>\n",
       "      <td>05</td>\n",
       "      <td>2011</td>\n",
       "      <td>02</td>\n",
       "      <td>0016</td>\n",
       "      <td>03</td>\n",
       "      <td>00</td>\n",
       "      <td>0</td>\n",
       "      <td>1</td>\n",
       "      <td>...</td>\n",
       "      <td>0</td>\n",
       "      <td>0</td>\n",
       "      <td>0</td>\n",
       "      <td>1</td>\n",
       "      <td>0</td>\n",
       "      <td>1</td>\n",
       "      <td>0</td>\n",
       "      <td>1</td>\n",
       "      <td>0</td>\n",
       "      <td>0</td>\n",
       "    </tr>\n",
       "    <tr>\n",
       "      <th>73</th>\n",
       "      <td>07000635</td>\n",
       "      <td>083</td>\n",
       "      <td>05</td>\n",
       "      <td>2010</td>\n",
       "      <td>01</td>\n",
       "      <td>0067</td>\n",
       "      <td>02</td>\n",
       "      <td>00</td>\n",
       "      <td>0</td>\n",
       "      <td>1</td>\n",
       "      <td>...</td>\n",
       "      <td>0</td>\n",
       "      <td>0</td>\n",
       "      <td>0</td>\n",
       "      <td>1</td>\n",
       "      <td>0</td>\n",
       "      <td>1</td>\n",
       "      <td>0</td>\n",
       "      <td>1</td>\n",
       "      <td>0</td>\n",
       "      <td>0</td>\n",
       "    </tr>\n",
       "  </tbody>\n",
       "</table>\n",
       "<p>5 rows × 1247 columns</p>\n",
       "</div>"
      ],
      "text/plain": [
       "    PUBCSNUM AGE_DX MDXRECMP  YEAR_DX REC_NO SRV_TIME_MON MALIGCOUNT  \\\n",
       "9   07000085    077       02     2007     02         0047         04   \n",
       "32  07000321    086       09     2012     01         0039         02   \n",
       "44  07000411    088       07     2006     01         0038         02   \n",
       "57  07000510    082       05     2011     02         0016         03   \n",
       "73  07000635    083       05     2010     01         0067         02   \n",
       "\n",
       "   BENBORDCOUNT  REG__0000001501  REG__0000001502      ...       ODTHCLASS__0  \\\n",
       "9            00                0                1      ...                  0   \n",
       "32           00                0                1      ...                  0   \n",
       "44           00                0                1      ...                  0   \n",
       "57           00                0                1      ...                  0   \n",
       "73           00                0                1      ...                  0   \n",
       "\n",
       "    ODTHCLASS__1  ODTHCLASS__8  ODTHCLASS__9  INTPRIM__0  INTPRIM__1  \\\n",
       "9              0             0             1           0           1   \n",
       "32             0             0             1           0           1   \n",
       "44             0             0             1           0           1   \n",
       "57             0             0             1           0           1   \n",
       "73             0             0             1           0           1   \n",
       "\n",
       "    INTPRIM__9  CSSCHEMA__25  CSSCHEMA__26  CSSCHEMA__36  \n",
       "9            0             0             1             0  \n",
       "32           0             1             0             0  \n",
       "44           0             1             0             0  \n",
       "57           0             1             0             0  \n",
       "73           0             1             0             0  \n",
       "\n",
       "[5 rows x 1247 columns]"
      ]
     },
     "execution_count": 5,
     "metadata": {},
     "output_type": "execute_result"
    }
   ],
   "source": [
    "filename = 'output/COLRECT_pivoted.pickle'\n",
    "\n",
    "df_filtered = pd.read_pickle(filename)\n",
    "\n",
    "df_filtered.head()"
   ]
  },
  {
   "cell_type": "code",
   "execution_count": 6,
   "metadata": {},
   "outputs": [
    {
     "name": "stdout",
     "output_type": "stream",
     "text": [
      "Feature shape: (277984, 1245)\n"
     ]
    }
   ],
   "source": [
    "# Prepare training\n",
    "\n",
    "x_df = df_filtered.drop(columns=['PUBCSNUM', 'SRV_TIME_MON'])\n",
    "X = x_df.values.astype(np.float32)\n",
    "y_cont = df_filtered.SRV_TIME_MON.values.astype(np.float32)\n",
    "y = np.where(y_cont > 60, 1, 0)\n",
    "\n",
    "print(f'Feature shape: {X.shape}')\n",
    "\n",
    "X_train, X_test, y_train, y_test = train_test_split(X, y, test_size=0.3, random_state=42)"
   ]
  },
  {
   "cell_type": "code",
   "execution_count": 7,
   "metadata": {},
   "outputs": [
    {
     "name": "stdout",
     "output_type": "stream",
     "text": [
      "Start training random forest...\n"
     ]
    },
    {
     "data": {
      "text/plain": [
       "RandomForestClassifier(bootstrap=True, class_weight=None, criterion='gini',\n",
       "            max_depth=None, max_features='auto', max_leaf_nodes=None,\n",
       "            min_impurity_decrease=0.0, min_impurity_split=None,\n",
       "            min_samples_leaf=1, min_samples_split=2,\n",
       "            min_weight_fraction_leaf=0.0, n_estimators=10, n_jobs=8,\n",
       "            oob_score=False, random_state=42, verbose=0, warm_start=False)"
      ]
     },
     "execution_count": 7,
     "metadata": {},
     "output_type": "execute_result"
    }
   ],
   "source": [
    "# Feature selection (Step 1. RF training)\n",
    "\n",
    "print('Start training random forest...')\n",
    "model_for_fs = RandomForestClassifier(n_jobs=8, random_state=42)\n",
    "model_for_fs.fit(X_train, y_train)"
   ]
  },
  {
   "cell_type": "code",
   "execution_count": 8,
   "metadata": {},
   "outputs": [],
   "source": [
    "# Feature selection (Step 2. create feature selector)\n",
    "\n",
    "feature_selector = SelectFromModel(model_for_fs, prefit=True)\n",
    "\n",
    "feature_selected_column_names = x_df.columns[feature_selector.get_support()].values\n",
    "\n",
    "with open('feature_selected_column_info.txt', 'w') as f:\n",
    "    f.write(' '.join(feature_selected_column_names))\n",
    "    \n",
    "with open('feature_selected_column_info_simple.txt', 'w') as f:\n",
    "    simple = []\n",
    "    for name in feature_selected_column_names:\n",
    "        simple.append(name.split('_')[0])\n",
    "    simple = list(set(simple))\n",
    "    f.write(' '.join(simple))\n",
    "    "
   ]
  },
  {
   "cell_type": "code",
   "execution_count": 9,
   "metadata": {},
   "outputs": [
    {
     "name": "stdout",
     "output_type": "stream",
     "text": [
      "Number of selected features: 138\n"
     ]
    }
   ],
   "source": [
    "# Feature selection (Step 2. transform Xs)\n",
    "\n",
    "X_train_fs = feature_selector.transform(X_train)\n",
    "X_test_fs = feature_selector.transform(X_test)\n",
    "\n",
    "print(f'Number of selected features: {X_train_fs.shape[1]}')"
   ]
  },
  {
   "cell_type": "code",
   "execution_count": 10,
   "metadata": {},
   "outputs": [
    {
     "data": {
      "text/plain": [
       "['scalar.pickle']"
      ]
     },
     "execution_count": 10,
     "metadata": {},
     "output_type": "execute_result"
    }
   ],
   "source": [
    "# Scaling\n",
    "\n",
    "scalar = MinMaxScaler()\n",
    "scalar.fit(X_train_fs)\n",
    "\n",
    "X_train_scaled = scalar.transform(X_train_fs)\n",
    "X_test_scaled = scalar.transform(X_test_fs)\n",
    "\n",
    "joblib.dump(scalar, 'scalar.pickle')"
   ]
  },
  {
   "cell_type": "code",
   "execution_count": 11,
   "metadata": {},
   "outputs": [
    {
     "name": "stdout",
     "output_type": "stream",
     "text": [
      "Start training logistic regression...\n",
      "Saving logistic regression model...\n"
     ]
    },
    {
     "data": {
      "text/plain": [
       "['model_lr.pickle']"
      ]
     },
     "execution_count": 11,
     "metadata": {},
     "output_type": "execute_result"
    }
   ],
   "source": [
    "# Logistic Regression\n",
    "\n",
    "print('Start training logistic regression...')\n",
    "model_lr = LogisticRegression()\n",
    "model_lr.fit(X_train_scaled, y_train)\n",
    "\n",
    "print('Saving logistic regression model...')\n",
    "joblib.dump(model_lr, 'model_lr.pickle')"
   ]
  },
  {
   "cell_type": "code",
   "execution_count": 12,
   "metadata": {},
   "outputs": [
    {
     "name": "stdout",
     "output_type": "stream",
     "text": [
      "Training set evaluation\n",
      "             precision    recall  f1-score   support\n",
      "\n",
      "    <= 5yrs       0.93      0.95      0.94    131888\n",
      "     > 5yrs       0.89      0.85      0.87     62700\n",
      "\n",
      "avg / total       0.91      0.92      0.91    194588\n",
      "\n",
      "Test set evaluation\n",
      "             precision    recall  f1-score   support\n",
      "\n",
      "    <= 5yrs       0.93      0.95      0.94     56342\n",
      "     > 5yrs       0.89      0.84      0.86     27054\n",
      "\n",
      "avg / total       0.91      0.91      0.91     83396\n",
      "\n",
      "Confusion matrix, without normalization\n"
     ]
    },
    {
     "data": {
      "image/png": "[encoded data removed]",
      "text/plain": [
       "<Figure size 432x288 with 2 Axes>"
      ]
     },
     "metadata": {},
     "output_type": "display_data"
    },
    {
     "name": "stdout",
     "output_type": "stream",
     "text": [
      "Normalized confusion matrix\n"
     ]
    },
    {
     "data": {
      "image/png": "[encoded data removed]",
      "text/plain": [
       "<Figure size 432x288 with 2 Axes>"
      ]
     },
     "metadata": {},
     "output_type": "display_data"
    }
   ],
   "source": [
    "target_names = ['<= 5yrs', '> 5yrs']\n",
    "\n",
    "def eval(model, name, Xtr=X_train_scaled, Xts=X_test_scaled):\n",
    "    print('Training set evaluation')\n",
    "    y_train_pred = model.predict(Xtr)\n",
    "    print(classification_report(y_train, y_train_pred, target_names=target_names))\n",
    "\n",
    "    print('Test set evaluation')\n",
    "    y_test_pred = model.predict(Xts)\n",
    "    print(classification_report(y_test, y_test_pred, target_names=target_names))\n",
    "\n",
    "    cnf_matrix = confusion_matrix(y_test, y_test_pred)\n",
    "    plot_confusion_matrix(cnf_matrix, classes=target_names, normalize=False,\n",
    "                          title=f'{name} Confusion matrix, without normalization')\n",
    "    plt.show()\n",
    "    plot_confusion_matrix(cnf_matrix, classes=target_names, normalize=True,\n",
    "                          title=f'{name} Confusion matrix, with normalization')\n",
    "    plt.show()\n",
    "    \n",
    "eval(model_lr, 'Logistic Regression')"
   ]
  },
  {
   "cell_type": "code",
   "execution_count": 13,
   "metadata": {},
   "outputs": [
    {
     "name": "stdout",
     "output_type": "stream",
     "text": [
      "Start training random forest...\n",
      "Saving random forest model...\n"
     ]
    },
    {
     "data": {
      "text/plain": [
       "['model_rf.pickle']"
      ]
     },
     "execution_count": 13,
     "metadata": {},
     "output_type": "execute_result"
    }
   ],
   "source": [
    "# Random Forest\n",
    "\n",
    "print('Start training random forest...')\n",
    "model_rf = RandomForestClassifier(n_estimators=20,\n",
    "                                  n_jobs=8, \n",
    "                                  random_state=42)\n",
    "model_rf.fit(X_train_scaled, y_train)\n",
    "\n",
    "print('Saving random forest model...')\n",
    "joblib.dump(model_rf, 'model_rf.pickle')"
   ]
  },
  {
   "cell_type": "code",
   "execution_count": 14,
   "metadata": {},
   "outputs": [
    {
     "name": "stdout",
     "output_type": "stream",
     "text": [
      "Training set evaluation\n",
      "             precision    recall  f1-score   support\n",
      "\n",
      "    <= 5yrs       1.00      1.00      1.00    131888\n",
      "     > 5yrs       1.00      0.99      1.00     62700\n",
      "\n",
      "avg / total       1.00      1.00      1.00    194588\n",
      "\n",
      "Test set evaluation\n",
      "             precision    recall  f1-score   support\n",
      "\n",
      "    <= 5yrs       0.93      0.97      0.95     56342\n",
      "     > 5yrs       0.93      0.84      0.88     27054\n",
      "\n",
      "avg / total       0.93      0.93      0.93     83396\n",
      "\n",
      "Confusion matrix, without normalization\n"
     ]
    },
    {
     "data": {
      "image/png": "[encoded data removed]",
      "text/plain": [
       "<Figure size 432x288 with 2 Axes>"
      ]
     },
     "metadata": {},
     "output_type": "display_data"
    },
    {
     "name": "stdout",
     "output_type": "stream",
     "text": [
      "Normalized confusion matrix\n"
     ]
    },
    {
     "data": {
      "image/png": "[encoded data removed]",
      "text/plain": [
       "<Figure size 432x288 with 2 Axes>"
      ]
     },
     "metadata": {},
     "output_type": "display_data"
    }
   ],
   "source": [
    "eval(model_rf, 'Random Forest')"
   ]
  },
  {
   "cell_type": "code",
   "execution_count": 15,
   "metadata": {},
   "outputs": [
    {
     "name": "stdout",
     "output_type": "stream",
     "text": [
      "Start training linear SVM...\n",
      "Saving Linear SVM model...\n"
     ]
    },
    {
     "data": {
      "text/plain": [
       "['model_lsvm.pickle']"
      ]
     },
     "execution_count": 15,
     "metadata": {},
     "output_type": "execute_result"
    }
   ],
   "source": [
    "# Linear SVM\n",
    "\n",
    "print('Start training linear SVM...')\n",
    "model_lsvm = LinearSVC(random_state=42)\n",
    "model_lsvm.fit(X_train_scaled, y_train)\n",
    "\n",
    "print('Saving Linear SVM model...')\n",
    "joblib.dump(model_lsvm, 'model_lsvm.pickle')"
   ]
  },
  {
   "cell_type": "code",
   "execution_count": 16,
   "metadata": {},
   "outputs": [
    {
     "name": "stdout",
     "output_type": "stream",
     "text": [
      "Training set evaluation\n",
      "             precision    recall  f1-score   support\n",
      "\n",
      "    <= 5yrs       0.93      0.95      0.94    131888\n",
      "     > 5yrs       0.89      0.84      0.86     62700\n",
      "\n",
      "avg / total       0.91      0.91      0.91    194588\n",
      "\n",
      "Test set evaluation\n",
      "             precision    recall  f1-score   support\n",
      "\n",
      "    <= 5yrs       0.93      0.95      0.94     56342\n",
      "     > 5yrs       0.89      0.84      0.86     27054\n",
      "\n",
      "avg / total       0.91      0.91      0.91     83396\n",
      "\n",
      "Confusion matrix, without normalization\n"
     ]
    },
    {
     "data": {
      "image/png": "[encoded data removed]",
      "text/plain": [
       "<Figure size 432x288 with 2 Axes>"
      ]
     },
     "metadata": {},
     "output_type": "display_data"
    },
    {
     "name": "stdout",
     "output_type": "stream",
     "text": [
      "Normalized confusion matrix\n"
     ]
    },
    {
     "data": {
      "image/png": "[encoded data removed]",
      "text/plain": [
       "<Figure size 432x288 with 2 Axes>"
      ]
     },
     "metadata": {},
     "output_type": "display_data"
    }
   ],
   "source": [
    "eval(model_lsvm, 'Linear SVM')"
   ]
  },
  {
   "cell_type": "code",
   "execution_count": null,
   "metadata": {},
   "outputs": [
    {
     "name": "stdout",
     "output_type": "stream",
     "text": [
      "Start training SVM...\n"
     ]
    }
   ],
   "source": [
    "# SVM\n",
    "\n",
    "print('Start training SVM...')\n",
    "model_svm = SVC(random_state=42)\n",
    "model_svm.fit(X_train_scaled, y_train)\n",
    "\n",
    "print('Saving SVM model...')\n",
    "joblib.dump(model_svm, 'model_svm.pickle')"
   ]
  },
  {
   "cell_type": "code",
   "execution_count": null,
   "metadata": {},
   "outputs": [],
   "source": [
    "eval(model_svm, 'SVM')"
   ]
  },
  {
   "cell_type": "code",
   "execution_count": 17,
   "metadata": {},
   "outputs": [
    {
     "name": "stdout",
     "output_type": "stream",
     "text": [
      "Start training MLP...\n",
      "Iteration 1, loss = 0.29005617\n",
      "Iteration 2, loss = 0.21089235\n",
      "Iteration 3, loss = 0.19457878\n",
      "Iteration 4, loss = 0.18402263\n",
      "Iteration 5, loss = 0.17749108\n",
      "Iteration 6, loss = 0.17294358\n",
      "Iteration 7, loss = 0.16942252\n",
      "Iteration 8, loss = 0.16719363\n",
      "Iteration 9, loss = 0.16526217\n",
      "Iteration 10, loss = 0.16363974\n",
      "Iteration 11, loss = 0.16285960\n",
      "Iteration 12, loss = 0.16175531\n",
      "Iteration 13, loss = 0.16090273\n",
      "Iteration 14, loss = 0.15984401\n",
      "Iteration 15, loss = 0.15894781\n",
      "Iteration 16, loss = 0.15837302\n",
      "Iteration 17, loss = 0.15776532\n",
      "Iteration 18, loss = 0.15705962\n",
      "Iteration 19, loss = 0.15630003\n",
      "Iteration 20, loss = 0.15586499\n",
      "Iteration 21, loss = 0.15525161\n",
      "Iteration 22, loss = 0.15465811\n",
      "Iteration 23, loss = 0.15396281\n",
      "Iteration 24, loss = 0.15353604\n",
      "Iteration 25, loss = 0.15339271\n",
      "Iteration 26, loss = 0.15272013\n",
      "Iteration 27, loss = 0.15190412\n",
      "Iteration 28, loss = 0.15161194\n",
      "Iteration 29, loss = 0.15119556\n",
      "Iteration 30, loss = 0.15053063\n",
      "Iteration 31, loss = 0.15032511\n",
      "Iteration 32, loss = 0.14972254\n",
      "Iteration 33, loss = 0.14954193\n",
      "Iteration 34, loss = 0.14888515\n",
      "Iteration 35, loss = 0.14845267\n",
      "Iteration 36, loss = 0.14788265\n",
      "Iteration 37, loss = 0.14765734\n",
      "Iteration 38, loss = 0.14725302\n",
      "Iteration 39, loss = 0.14674339\n",
      "Iteration 40, loss = 0.14650370\n",
      "Iteration 41, loss = 0.14614280\n",
      "Iteration 42, loss = 0.14542958\n",
      "Iteration 43, loss = 0.14522536\n",
      "Iteration 44, loss = 0.14486443\n",
      "Iteration 45, loss = 0.14461331\n",
      "Iteration 46, loss = 0.14418507\n",
      "Iteration 47, loss = 0.14355803\n",
      "Iteration 48, loss = 0.14352075\n",
      "Iteration 49, loss = 0.14298607\n",
      "Iteration 50, loss = 0.14287521\n",
      "Iteration 51, loss = 0.14209551\n",
      "Iteration 52, loss = 0.14233331\n",
      "Iteration 53, loss = 0.14203301\n",
      "Iteration 54, loss = 0.14149112\n",
      "Iteration 55, loss = 0.14122703\n",
      "Iteration 56, loss = 0.14127490\n",
      "Iteration 57, loss = 0.14070010\n",
      "Iteration 58, loss = 0.14024763\n",
      "Iteration 59, loss = 0.14017510\n",
      "Iteration 60, loss = 0.13987674\n",
      "Iteration 61, loss = 0.13965559\n",
      "Iteration 62, loss = 0.13909561\n",
      "Iteration 63, loss = 0.13875814\n",
      "Iteration 64, loss = 0.13890185\n",
      "Iteration 65, loss = 0.13827629\n",
      "Iteration 66, loss = 0.13807331\n",
      "Iteration 67, loss = 0.13795697\n",
      "Iteration 68, loss = 0.13777744\n",
      "Iteration 69, loss = 0.13767234\n",
      "Iteration 70, loss = 0.13758474\n",
      "Iteration 71, loss = 0.13683265\n",
      "Iteration 72, loss = 0.13684930\n",
      "Iteration 73, loss = 0.13641248\n",
      "Iteration 74, loss = 0.13626426\n",
      "Iteration 75, loss = 0.13632764\n",
      "Iteration 76, loss = 0.13582263\n",
      "Iteration 77, loss = 0.13585995\n",
      "Iteration 78, loss = 0.13538897\n",
      "Iteration 79, loss = 0.13519759\n",
      "Iteration 80, loss = 0.13537920\n",
      "Iteration 81, loss = 0.13487442\n",
      "Iteration 82, loss = 0.13482207\n",
      "Iteration 83, loss = 0.13464334\n",
      "Iteration 84, loss = 0.13458275\n",
      "Iteration 85, loss = 0.13399958\n",
      "Iteration 86, loss = 0.13375832\n",
      "Iteration 87, loss = 0.13396779\n",
      "Iteration 88, loss = 0.13381552\n",
      "Iteration 89, loss = 0.13365793\n",
      "Iteration 90, loss = 0.13374684\n",
      "Iteration 91, loss = 0.13304573\n",
      "Iteration 92, loss = 0.13292314\n",
      "Iteration 93, loss = 0.13284234\n",
      "Iteration 94, loss = 0.13260209\n",
      "Iteration 95, loss = 0.13244398\n",
      "Iteration 96, loss = 0.13236681\n",
      "Iteration 97, loss = 0.13222604\n",
      "Iteration 98, loss = 0.13242677\n",
      "Iteration 99, loss = 0.13223632\n",
      "Iteration 100, loss = 0.13178624\n",
      "Iteration 101, loss = 0.13175347\n",
      "Iteration 102, loss = 0.13158803\n",
      "Iteration 103, loss = 0.13152862\n",
      "Iteration 104, loss = 0.13117661\n",
      "Iteration 105, loss = 0.13102932\n",
      "Iteration 106, loss = 0.13115966\n",
      "Iteration 107, loss = 0.13086062\n",
      "Iteration 108, loss = 0.13062340\n",
      "Iteration 109, loss = 0.13055800\n",
      "Iteration 110, loss = 0.13034449\n",
      "Iteration 111, loss = 0.13037773\n",
      "Iteration 112, loss = 0.13000821\n",
      "Iteration 113, loss = 0.12998644\n",
      "Iteration 114, loss = 0.13003157\n",
      "Iteration 115, loss = 0.12952170\n",
      "Iteration 116, loss = 0.12965505\n",
      "Iteration 117, loss = 0.12956007\n",
      "Iteration 118, loss = 0.12925574\n",
      "Iteration 119, loss = 0.12943296\n",
      "Iteration 120, loss = 0.12933331\n",
      "Iteration 121, loss = 0.12918514\n",
      "Training loss did not improve more than tol=0.000100 for two consecutive epochs. Stopping.\n",
      "Saving MLP model...\n"
     ]
    },
    {
     "data": {
      "text/plain": [
       "['model_mlp.pickle']"
      ]
     },
     "execution_count": 17,
     "metadata": {},
     "output_type": "execute_result"
    }
   ],
   "source": [
    "# MLP\n",
    "\n",
    "print('Start training MLP...')\n",
    "model_mlp = MLPClassifier(hidden_layer_sizes=(100,),\n",
    "                          random_state=42,\n",
    "                          verbose=True)\n",
    "model_mlp.fit(X_train_scaled, y_train)\n",
    "\n",
    "print('Saving MLP model...')\n",
    "joblib.dump(model_mlp, 'model_mlp.pickle')"
   ]
  },
  {
   "cell_type": "code",
   "execution_count": 18,
   "metadata": {},
   "outputs": [
    {
     "name": "stdout",
     "output_type": "stream",
     "text": [
      "Training set evaluation\n",
      "             precision    recall  f1-score   support\n",
      "\n",
      "    <= 5yrs       0.95      0.97      0.96    131888\n",
      "     > 5yrs       0.94      0.90      0.92     62700\n",
      "\n",
      "avg / total       0.95      0.95      0.95    194588\n",
      "\n",
      "Test set evaluation\n",
      "             precision    recall  f1-score   support\n",
      "\n",
      "    <= 5yrs       0.93      0.95      0.94     56342\n",
      "     > 5yrs       0.90      0.86      0.88     27054\n",
      "\n",
      "avg / total       0.92      0.92      0.92     83396\n",
      "\n",
      "Confusion matrix, without normalization\n"
     ]
    },
    {
     "data": {
      "image/png": "[encoded data removed]",
      "text/plain": [
       "<Figure size 432x288 with 2 Axes>"
      ]
     },
     "metadata": {},
     "output_type": "display_data"
    },
    {
     "name": "stdout",
     "output_type": "stream",
     "text": [
      "Normalized confusion matrix\n"
     ]
    },
    {
     "data": {
      "image/png": "[encoded data removed]",
      "text/plain": [
       "<Figure size 432x288 with 2 Axes>"
      ]
     },
     "metadata": {},
     "output_type": "display_data"
    }
   ],
   "source": [
    "eval(model_mlp, 'MLP', X_train_scaled, X_test_scaled)"
   ]
  },
  {
   "cell_type": "code",
   "execution_count": null,
   "metadata": {},
   "outputs": [],
   "source": []
  }
 ],
 "metadata": {
  "kernelspec": {
   "display_name": "Python 3",
   "language": "python",
   "name": "python3"
  },
  "language_info": {
   "codemirror_mode": {
    "name": "ipython",
    "version": 3
   },
   "file_extension": ".py",
   "mimetype": "text/x-python",
   "name": "python",
   "nbconvert_exporter": "python",
   "pygments_lexer": "ipython3",
   "version": "3.6.5"
  }
 },
 "nbformat": 4,
 "nbformat_minor": 2
}
